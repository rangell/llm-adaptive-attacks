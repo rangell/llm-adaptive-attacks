{
 "cells": [
  {
   "cell_type": "code",
   "execution_count": 1,
   "id": "722d2a4f-0058-498c-b680-f550ffa46390",
   "metadata": {},
   "outputs": [
    {
     "data": {
      "application/vnd.jupyter.widget-view+json": {
       "model_id": "a5443d5df76648a5b9349ab6f0383512",
       "version_major": 2,
       "version_minor": 0
      },
      "text/plain": [
       "Loading checkpoint shards:   0%|          | 0/4 [00:00<?, ?it/s]"
      ]
     },
     "metadata": {},
     "output_type": "display_data"
    }
   ],
   "source": [
    "import torch\n",
    "from transformers import AutoTokenizer, AutoModelForCausalLM\n",
    "\n",
    "guard_model_name = \"meta-llama/Llama-Guard-3-8B\"\n",
    "device = \"cuda\"\n",
    "dtype = torch.bfloat16\n",
    "\n",
    "guard_tokenizer = AutoTokenizer.from_pretrained(guard_model_name, padding_side=\"left\")\n",
    "guard_tokenizer.pad_token_id = 0\n",
    "guard_model = AutoModelForCausalLM.from_pretrained(guard_model_name, torch_dtype=dtype, device_map=device)"
   ]
  },
  {
   "cell_type": "code",
   "execution_count": 2,
   "id": "2ad0d401-6e5d-4cd2-8bd2-95701c3d884d",
   "metadata": {},
   "outputs": [
    {
     "name": "stdout",
     "output_type": "stream",
     "text": [
      "WARNING: Ignoring gemma2-27b for now\n"
     ]
    }
   ],
   "source": [
    "# Load jailbreak responses data\n",
    "import os\n",
    "import glob\n",
    "import pickle\n",
    "jailbreak_dataset = \"jailbreak_success\"\n",
    "\n",
    "prompt_responses = {}\n",
    "for fpath in glob.glob(f\"jailbreak_screening_results/{jailbreak_dataset}/*filtered*.pkl\"):\n",
    "    model_name = os.path.basename(fpath).split(\"-filtered_responses\")[0]\n",
    "    with open(fpath, \"rb\") as f:\n",
    "        if model_name != \"gemma2-27b\":\n",
    "            prompt_responses[model_name] = pickle.load(f)\n",
    "        else:\n",
    "            print(\"WARNING: Ignoring gemma2-27b for now\")"
   ]
  },
  {
   "cell_type": "code",
   "execution_count": 3,
   "id": "a16b5f93-8fea-49e7-abe0-228a6190b78b",
   "metadata": {},
   "outputs": [],
   "source": [
    "# get all of the special tokens\n",
    "from conversers import get_model_path_and_template\n",
    "\n",
    "special_tokens_map = {}\n",
    "tokenizer_map = {}\n",
    "for model_name in prompt_responses.keys():\n",
    "    model_path = get_model_path_and_template(model_name)[0]\n",
    "    _tokenizer = AutoTokenizer.from_pretrained(model_path, padding_side=\"left\")\n",
    "    tokenizer_map[model_name] = _tokenizer\n",
    "    _special_tokens_list = []\n",
    "    for _token in _tokenizer.special_tokens_map.values():\n",
    "        if isinstance(_token, list):\n",
    "            _special_tokens_list += _token\n",
    "        else:\n",
    "            _special_tokens_list.append(_token)\n",
    "    special_tokens_map[model_name] = _special_tokens_list"
   ]
  },
  {
   "cell_type": "code",
   "execution_count": 4,
   "id": "9fc5d276-8fd7-45d3-b88e-55314b0e3073",
   "metadata": {
    "scrolled": true
   },
   "outputs": [
    {
     "name": "stderr",
     "output_type": "stream",
     "text": [
      "100%|██████████| 19/19 [00:58<00:00,  3.09s/it]\n"
     ]
    }
   ],
   "source": [
    "from copy import deepcopy\n",
    "from tqdm import tqdm\n",
    "\n",
    "# TODO: batch this and do it for each model individually \n",
    "augmented_prompt_responses = {}\n",
    "for model_name in tqdm(prompt_responses.keys()):\n",
    "    augmented_prompt_responses[model_name] = {}\n",
    "    for prompt, response in prompt_responses[model_name].items():\n",
    "        _response = deepcopy(response)\n",
    "        tokenized_response = tokenizer_map[model_name].tokenize(response[\"responses\"])\n",
    "        tokenized_response = [t for t in tokenized_response if t not in special_tokens_map[model_name]]\n",
    "        detokenized_response = tokenizer_map[model_name].convert_tokens_to_string(tokenized_response)\n",
    "        _response[\"responses\"] = detokenized_response\n",
    "        original_chat = [\n",
    "            {\"role\": \"user\", \"content\": _response[\"original_prompt_text\"]},\n",
    "            {\"role\": \"assistant\", \"content\": detokenized_response},\n",
    "        ]\n",
    "        jailbreak_chat = [\n",
    "            {\"role\": \"user\", \"content\": _response[\"jailbreak_prompt_text\"]},\n",
    "            {\"role\": \"assistant\", \"content\": detokenized_response},\n",
    "        ]\n",
    "        _response[\"original_conversation\"] = guard_tokenizer.apply_chat_template(original_chat, tokenize=False, add_generation_prompt=True)\n",
    "        _response[\"jailbreak_conversation\"] = guard_tokenizer.apply_chat_template(jailbreak_chat, tokenize=False, add_generation_prompt=True)\n",
    "        augmented_prompt_responses[model_name][prompt] = _response"
   ]
  },
  {
   "cell_type": "code",
   "execution_count": null,
   "id": "1e1f8d72-a50b-4a76-be08-e129fc14436a",
   "metadata": {},
   "outputs": [
    {
     "name": "stderr",
     "output_type": "stream",
     "text": [
      " 29%|██▊       | 4/14 [13:55<35:37, 213.78s/it]"
     ]
    }
   ],
   "source": [
    "from collections import defaultdict\n",
    "from torch.utils.data import DataLoader\n",
    "\n",
    "batch_size = 128\n",
    "\n",
    "batch_responses = defaultdict(list)\n",
    "for model_name in augmented_prompt_responses.keys():\n",
    "    response_dataloader = DataLoader(list(augmented_prompt_responses[model_name].values()), batch_size=batch_size, shuffle=False)\n",
    "    for batch in tqdm(response_dataloader):\n",
    "        _batch = deepcopy(batch)\n",
    "        inputs = guard_tokenizer(_batch[\"original_conversation\"], padding=True, return_tensors=\"pt\").to(device)\n",
    "        output = guard_model.generate(**inputs, max_new_tokens=10, pad_token_id=0)\n",
    "        prompt_len = inputs[\"input_ids\"].shape[-1]\n",
    "        _batch[\"original_guard3_response\"] = guard_tokenizer.batch_decode(output[:, prompt_len:], skip_special_tokens=True)\n",
    "        _batch[\"original_guard3_judge\"] = [r.find(\"unsafe\") != -1 for r in _batch[\"original_guard3_response\"]]\n",
    "        inputs = guard_tokenizer(_batch[\"jailbreak_conversation\"], padding=True, return_tensors=\"pt\").to(device)\n",
    "        output = guard_model.generate(**inputs, max_new_tokens=10, pad_token_id=0)\n",
    "        prompt_len = inputs[\"input_ids\"].shape[-1]\n",
    "        _batch[\"jailbreak_guard3_response\"] = guard_tokenizer.batch_decode(output[:, prompt_len:], skip_special_tokens=True)\n",
    "        _batch[\"jailbreak_guard3_judge\"] = [r.find(\"unsafe\") != -1 for r in _batch[\"jailbreak_guard3_response\"]]\n",
    "        batch_responses[model_name].append(_batch)"
   ]
  },
  {
   "cell_type": "code",
   "execution_count": null,
   "id": "a07ba8d3-cb61-4860-a0ec-5e5c680eb09c",
   "metadata": {},
   "outputs": [],
   "source": []
  }
 ],
 "metadata": {
  "kernelspec": {
   "display_name": "jailbreaks",
   "language": "python",
   "name": "jailbreaks"
  },
  "language_info": {
   "codemirror_mode": {
    "name": "ipython",
    "version": 3
   },
   "file_extension": ".py",
   "mimetype": "text/x-python",
   "name": "python",
   "nbconvert_exporter": "python",
   "pygments_lexer": "ipython3",
   "version": "3.12.6"
  }
 },
 "nbformat": 4,
 "nbformat_minor": 5
}
